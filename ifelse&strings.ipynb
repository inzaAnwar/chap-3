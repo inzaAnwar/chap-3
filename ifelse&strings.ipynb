{
 "cells": [
  {
   "cell_type": "code",
   "execution_count": 1,
   "id": "0fe9a2a5",
   "metadata": {},
   "outputs": [
    {
     "name": "stdout",
     "output_type": "stream",
     "text": [
      "number is smaller\n"
     ]
    }
   ],
   "source": [
    "i=10\n",
    "if i>15:\n",
    "    print(\"number is bigger\")\n",
    "else:\n",
    "    print(\"number is smaller\")"
   ]
  },
  {
   "cell_type": "code",
   "execution_count": 4,
   "id": "fd0febd6",
   "metadata": {},
   "outputs": [
    {
     "name": "stdout",
     "output_type": "stream",
     "text": [
      "you are not authantic user please try again\n"
     ]
    }
   ],
   "source": [
    "i=\"Inza\"\n",
    "if i == \"inza\": #case sensitive am write I i is a 2 different things\n",
    "    print(\"hello Miss inza Welcom\")\n",
    "else:\n",
    "    print(\"you are not authantic user please try again\")"
   ]
  },
  {
   "cell_type": "code",
   "execution_count": 5,
   "id": "c38c67f6",
   "metadata": {},
   "outputs": [
    {
     "name": "stdout",
     "output_type": "stream",
     "text": [
      "a is equal to b\n"
     ]
    }
   ],
   "source": [
    "a=10\n",
    "b=10\n",
    "if a>b:\n",
    "    print(\"a is greater than b\")\n",
    "elif a==b:\n",
    "    print(\"a is equal to b\")\n",
    "else:\n",
    "    print(\"b is greater than a\")"
   ]
  },
  {
   "cell_type": "code",
   "execution_count": 7,
   "id": "c17aa073",
   "metadata": {},
   "outputs": [
    {
     "name": "stdout",
     "output_type": "stream",
     "text": [
      "please enter floor number78\n",
      "only 200 floors in building\n",
      "floor is found 78\n"
     ]
    }
   ],
   "source": [
    "i = input(\"please enter floor number\")\n",
    "b=int(i)\n",
    "print(\"only 200 floors in building\")\n",
    "if b>200:\n",
    "    print(\"floor not found\")\n",
    "elif b==200:\n",
    "    print(\"is the top floor of the buliding \")\n",
    "elif b<200:\n",
    "    print(\"floor is found\",b)\n"
   ]
  },
  {
   "cell_type": "code",
   "execution_count": 8,
   "id": "3b0c8d07",
   "metadata": {},
   "outputs": [
    {
     "name": "stdout",
     "output_type": "stream",
     "text": [
      "hello\n",
      "hello\n"
     ]
    }
   ],
   "source": [
    "#Strings\n",
    "print(\"hello\")\n",
    "print('hello')"
   ]
  },
  {
   "cell_type": "code",
   "execution_count": 9,
   "id": "5a3fa175",
   "metadata": {},
   "outputs": [
    {
     "name": "stdout",
     "output_type": "stream",
     "text": [
      "hello inza\n"
     ]
    }
   ],
   "source": [
    "a=\"hello\"\n",
    "b=\"inza\"\n",
    "print(a,b)"
   ]
  },
  {
   "cell_type": "code",
   "execution_count": 13,
   "id": "c6027114",
   "metadata": {},
   "outputs": [
    {
     "name": "stdout",
     "output_type": "stream",
     "text": [
      "Hello my name is inza.\n",
      "currently am doing work.\n",
      "i have no idea what i am write here.\n",
      "good bye.\n"
     ]
    }
   ],
   "source": [
    "a=\"\"\"Hello my name is inza.\n",
    "currently am doing work.\n",
    "i have no idea what i am write here.\n",
    "good bye.\"\"\"\n",
    "print(a)"
   ]
  },
  {
   "cell_type": "code",
   "execution_count": 14,
   "id": "d8edd01c",
   "metadata": {},
   "outputs": [
    {
     "name": "stdout",
     "output_type": "stream",
     "text": [
      "Hello my name is inza.\n",
      "currently am doing work.\n",
      "i have no idea what i am write here.\n",
      "good bye.\n"
     ]
    }
   ],
   "source": [
    "a='''Hello my name is inza.\n",
    "currently am doing work.\n",
    "i have no idea what i am write here.\n",
    "good bye.'''\n",
    "print(a)"
   ]
  },
  {
   "cell_type": "code",
   "execution_count": 17,
   "id": "8b99ad80",
   "metadata": {},
   "outputs": [
    {
     "name": "stdout",
     "output_type": "stream",
     "text": [
      "i\n"
     ]
    }
   ],
   "source": [
    "#array use in string\n",
    "#python array of bytes  represnts unicode charcters\n",
    "a=\"inza\"\n",
    "print(a[0])"
   ]
  },
  {
   "cell_type": "code",
   "execution_count": 19,
   "id": "9ac1e00b",
   "metadata": {},
   "outputs": [
    {
     "name": "stdout",
     "output_type": "stream",
     "text": [
      "i\n",
      "n\n",
      "z\n",
      "a\n"
     ]
    }
   ],
   "source": [
    "for x in \"inza\":\n",
    "    print(x)"
   ]
  },
  {
   "cell_type": "code",
   "execution_count": 21,
   "id": "969cc4d7",
   "metadata": {},
   "outputs": [
    {
     "name": "stdout",
     "output_type": "stream",
     "text": [
      "h\n",
      "e\n",
      "l\n",
      "l\n",
      "o\n",
      " \n",
      "I\n",
      "n\n",
      "z\n",
      "a\n"
     ]
    }
   ],
   "source": [
    "for i in \"hello Inza\":\n",
    "    print(i)"
   ]
  },
  {
   "cell_type": "code",
   "execution_count": 22,
   "id": "8982b26f",
   "metadata": {},
   "outputs": [
    {
     "name": "stdout",
     "output_type": "stream",
     "text": [
      "10\n"
     ]
    }
   ],
   "source": [
    "#using lenght fun in string\n",
    "a=\"hello Inza\"\n",
    "print(len(a))"
   ]
  },
  {
   "cell_type": "code",
   "execution_count": 28,
   "id": "f0e64852",
   "metadata": {},
   "outputs": [
    {
     "name": "stdout",
     "output_type": "stream",
     "text": [
      "True\n"
     ]
    }
   ],
   "source": [
    "# using in function to find word\n",
    "a=\"life is a journey\"\n",
    "print(\"life\" in  a)"
   ]
  },
  {
   "cell_type": "code",
   "execution_count": 30,
   "id": "d4d394ef",
   "metadata": {},
   "outputs": [
    {
     "name": "stdout",
     "output_type": "stream",
     "text": [
      "yes soup is present in text\n"
     ]
    }
   ],
   "source": [
    "#using if condition\n",
    "a=\"i am a fork and life is soup\"\n",
    "if \"soup\" in a:\n",
    "    print(\"yes soup is present in text\")"
   ]
  },
  {
   "cell_type": "code",
   "execution_count": 31,
   "id": "ed901d7b",
   "metadata": {},
   "outputs": [
    {
     "name": "stdout",
     "output_type": "stream",
     "text": [
      "no hard is present in text\n"
     ]
    }
   ],
   "source": [
    "#using if condition\n",
    "a=\"i am a fork and life is soup\"\n",
    "if \"hard\" not in a:\n",
    "    print(\"no hard is present in text\")"
   ]
  },
  {
   "cell_type": "code",
   "execution_count": 32,
   "id": "3c4c5ffa",
   "metadata": {},
   "outputs": [
    {
     "name": "stdout",
     "output_type": "stream",
     "text": [
      "True\n"
     ]
    }
   ],
   "source": [
    "a=\" life is full of trouble\"\n",
    "print('hard' not in a)"
   ]
  },
  {
   "cell_type": "code",
   "execution_count": 1,
   "id": "f602fc30",
   "metadata": {},
   "outputs": [
    {
     "name": "stdout",
     "output_type": "stream",
     "text": [
      "num is smaller\n",
      "Finis\n"
     ]
    }
   ],
   "source": [
    "x=7\n",
    "if x<10:\n",
    "    print(\"num is smaller\")\n",
    "if x>20:\n",
    "    print(\"num is bigger\")\n",
    "print(\"Finis\")"
   ]
  },
  {
   "cell_type": "code",
   "execution_count": 8,
   "id": "abf21729",
   "metadata": {},
   "outputs": [
    {
     "name": "stdout",
     "output_type": "stream",
     "text": [
      "x is smaller than 10\n",
      "x is smaller than equal 10\n",
      "x is greater than 4\n",
      "x is greater than equal 4\n",
      "equal sign using here\n",
      "not equa sign using here\n"
     ]
    }
   ],
   "source": [
    "x=5\n",
    "if x<10:\n",
    "    print(\"x is smaller than 10\")\n",
    "if x<=5:\n",
    "    print(\"x is smaller than equal 10\")\n",
    "if x>4:\n",
    "    print(\"x is greater than 4\")\n",
    "if x>=5:\n",
    "    print(\"x is greater than equal 4\")\n",
    "if x==5:\n",
    "    print(\"equal sign using here\")\n",
    "if x!=6:\n",
    "    print(\"not equa sign using here\")"
   ]
  },
  {
   "cell_type": "code",
   "execution_count": 9,
   "id": "c678db85",
   "metadata": {},
   "outputs": [
    {
     "name": "stdout",
     "output_type": "stream",
     "text": [
      "5\n",
      "both values are equal\n"
     ]
    }
   ],
   "source": [
    "# one way decision only if use here\n",
    "x=5\n",
    "print(x)\n",
    "if x==5:\n",
    "    print(\"both values are equal\")\n",
    "if x==6:\n",
    "    print(\"both values are equal\")\n"
   ]
  },
  {
   "cell_type": "code",
   "execution_count": 18,
   "id": "7fceda30",
   "metadata": {},
   "outputs": [
    {
     "name": "stdout",
     "output_type": "stream",
     "text": [
      "Smaller number\n",
      "0\n",
      "done with i 0\n",
      "1\n",
      "done with i 1\n",
      "2\n",
      "done with i 2\n",
      "3\n",
      "done with i 3\n",
      "4\n",
      " i greater than 3\n",
      "done with i 4\n",
      "5\n",
      " i greater than 3\n",
      "done with i 5\n"
     ]
    }
   ],
   "source": [
    "# nested desicion\n",
    "x=5\n",
    "if x<10:\n",
    "    print(\"Smaller number\")\n",
    "for i in range(6):\n",
    "    print(i)\n",
    "    if i>3:\n",
    "        print(\" i greater than 3\")\n",
    "    print(\"done with i\",i)\n",
    "    "
   ]
  },
  {
   "cell_type": "code",
   "execution_count": null,
   "id": "93abd718",
   "metadata": {},
   "outputs": [],
   "source": []
  },
  {
   "cell_type": "code",
   "execution_count": 16,
   "id": "374bae81",
   "metadata": {},
   "outputs": [
    {
     "name": "stdout",
     "output_type": "stream",
     "text": [
      "0\n",
      "1\n",
      "2\n",
      "3\n",
      "Bigger than 2\n",
      "4\n",
      "Bigger than 2\n",
      "Done with i 4\n",
      "All Done\n"
     ]
    }
   ],
   "source": [
    "for i in range(5) :\n",
    "    print(i)\n",
    "    if i > 2 :\n",
    "        print('Bigger than 2')\n",
    "print('Done with i', i)\n",
    "print('All Done')"
   ]
  },
  {
   "cell_type": "code",
   "execution_count": 19,
   "id": "35043a3b",
   "metadata": {},
   "outputs": [
    {
     "name": "stdout",
     "output_type": "stream",
     "text": [
      "Inza\n",
      "welcome Inza\n",
      "ALL done\n"
     ]
    }
   ],
   "source": [
    "x=45\n",
    "if x>1:\n",
    "    print(\"Inza\")\n",
    "    if x<100:\n",
    "        print(\"welcome Inza\")\n",
    "print(\"ALL done\")"
   ]
  },
  {
   "cell_type": "markdown",
   "id": "f9758335",
   "metadata": {},
   "source": [
    "### 2 way decision"
   ]
  },
  {
   "cell_type": "code",
   "execution_count": 20,
   "id": "d4e66770",
   "metadata": {},
   "outputs": [
    {
     "name": "stdout",
     "output_type": "stream",
     "text": [
      "smaller\n",
      "done \n"
     ]
    }
   ],
   "source": [
    "#if and else\n",
    "x=4\n",
    "if x<10:\n",
    "    print(\"smaller\")\n",
    "else:\n",
    "    print(\"bigger\")\n",
    "print(\"done \")\n"
   ]
  },
  {
   "cell_type": "code",
   "execution_count": 28,
   "id": "fb62fac3",
   "metadata": {},
   "outputs": [
    {
     "name": "stdout",
     "output_type": "stream",
     "text": [
      "euqal\n",
      "done\n"
     ]
    }
   ],
   "source": [
    "# multy way decision if elif and else\n",
    "x=10\n",
    "if x<10:\n",
    "    print(\"smaller\")\n",
    "elif x>10:\n",
    "    print(\"medium\")\n",
    "else:\n",
    "    print(\"euqal\")\n",
    "print(\"done\")"
   ]
  },
  {
   "cell_type": "code",
   "execution_count": 1,
   "id": "dc75fe51",
   "metadata": {},
   "outputs": [
    {
     "name": "stdout",
     "output_type": "stream",
     "text": [
      "enter marks 76\n",
      "B+\n"
     ]
    }
   ],
   "source": [
    "i = input(\"enter marks \")\n",
    "b= int(i)\n",
    "if b>=90:\n",
    "    print(\"A+ Grade\")\n",
    "elif b>=80:\n",
    "    print(\"A  Grade\")\n",
    "elif b>=75:\n",
    "    print(\"B+\")"
   ]
  },
  {
   "cell_type": "code",
   "execution_count": 3,
   "id": "1ece84a1",
   "metadata": {},
   "outputs": [
    {
     "ename": "ValueError",
     "evalue": "invalid literal for int() with base 10: 'hello jhope'",
     "output_type": "error",
     "traceback": [
      "\u001b[1;31m---------------------------------------------------------------------------\u001b[0m",
      "\u001b[1;31mValueError\u001b[0m                                Traceback (most recent call last)",
      "Cell \u001b[1;32mIn[3], line 2\u001b[0m\n\u001b[0;32m      1\u001b[0m a\u001b[38;5;241m=\u001b[39m\u001b[38;5;124m\"\u001b[39m\u001b[38;5;124mhello jhope\u001b[39m\u001b[38;5;124m\"\u001b[39m\n\u001b[1;32m----> 2\u001b[0m b\u001b[38;5;241m=\u001b[39m \u001b[38;5;28;43mint\u001b[39;49m\u001b[43m(\u001b[49m\u001b[43ma\u001b[49m\u001b[43m)\u001b[49m\n\u001b[0;32m      3\u001b[0m \u001b[38;5;28mprint\u001b[39m(\u001b[38;5;124m\"\u001b[39m\u001b[38;5;124minza\u001b[39m\u001b[38;5;124m\"\u001b[39m,b)\n\u001b[0;32m      4\u001b[0m c\u001b[38;5;241m=\u001b[39m\u001b[38;5;241m123\u001b[39m\n",
      "\u001b[1;31mValueError\u001b[0m: invalid literal for int() with base 10: 'hello jhope'"
     ]
    }
   ],
   "source": [
    "a=\"hello jhope\"\n",
    "b= int(a)# that is the reason program is not working here \n",
    "print(\"inza\",b)\n",
    "c=123\n",
    "d=int(c)\n",
    "print(c)\n"
   ]
  },
  {
   "cell_type": "code",
   "execution_count": 4,
   "id": "734a302f",
   "metadata": {},
   "outputs": [
    {
     "name": "stdout",
     "output_type": "stream",
     "text": [
      "inza code is not working because we are converting string into int\n",
      "inza 1213\n"
     ]
    }
   ],
   "source": [
    "# same code do with try except block\n",
    "a=\"hello jhope\"\n",
    "try:\n",
    "    b=int(a)\n",
    "except:\n",
    "    b=(\"code is not working because we are converting string into int\") # excet block runing\n",
    "print(\"inza\",b)\n",
    "c=1213\n",
    "try:\n",
    "    d=int(c)# try block runing\n",
    "except:\n",
    "    print(\"error\")\n",
    "print(\"inza\",d)"
   ]
  },
  {
   "cell_type": "code",
   "execution_count": 6,
   "id": "d131ee21",
   "metadata": {},
   "outputs": [
    {
     "name": "stdout",
     "output_type": "stream",
     "text": [
      "first code is not run\n",
      "second 123\n"
     ]
    }
   ],
   "source": [
    "x=\"hello inza\"\n",
    "try:\n",
    "    y=int(x)\n",
    "except:\n",
    "    y=(\"code is not run\")\n",
    "print(\"first\",y)\n",
    "z=123\n",
    "try:\n",
    "    d=int(z)\n",
    "except:\n",
    "    d=(\"error\")\n",
    "print(\"second\",d)"
   ]
  },
  {
   "cell_type": "code",
   "execution_count": 7,
   "id": "7519a0cf",
   "metadata": {},
   "outputs": [
    {
     "name": "stdout",
     "output_type": "stream",
     "text": [
      "Hello\n",
      "Done -1\n"
     ]
    }
   ],
   "source": [
    "astr = 'Bob'\n",
    "try:\n",
    "    print('Hello') \n",
    "    istr = int(astr)\n",
    "    print('There') \n",
    "except:\n",
    "    istr = -1\n",
    "print('Done', istr)"
   ]
  },
  {
   "cell_type": "code",
   "execution_count": 8,
   "id": "06b06eba",
   "metadata": {},
   "outputs": [
    {
     "name": "stdout",
     "output_type": "stream",
     "text": [
      "hello\n",
      "all Done -1\n"
     ]
    }
   ],
   "source": [
    "a='inza'\n",
    "try:\n",
    "    print(\"hello\")\n",
    "    b=int(a)\n",
    "    print('there')\n",
    "except:\n",
    "    b=-1\n",
    "print(\"all Done\",b)"
   ]
  },
  {
   "cell_type": "code",
   "execution_count": 10,
   "id": "3f42dcd0",
   "metadata": {},
   "outputs": [
    {
     "name": "stdout",
     "output_type": "stream",
     "text": [
      "Enter a Numberuuu\n",
      "keep it up\n"
     ]
    }
   ],
   "source": [
    "#with the help of input \n",
    "a=input(\"Enter a Number\")\n",
    "try:\n",
    "    i=int(a)\n",
    "except:\n",
    "    i=-1\n",
    "if i>0:\n",
    "    print(\"nice work bro\")\n",
    "else:\n",
    "    print(\"keep it up\")"
   ]
  },
  {
   "cell_type": "code",
   "execution_count": 11,
   "id": "564d036a",
   "metadata": {},
   "outputs": [
    {
     "name": "stdout",
     "output_type": "stream",
     "text": [
      "Enter Hours:8\n",
      "Enter Rate:100\n",
      "Pay = 800.0\n"
     ]
    }
   ],
   "source": [
    "#Rewrite your pay computation to give the employee 1.5 times \n",
    "#the hourly rate for hours worked above 40 hours.\n",
    "hours = float(input('Enter Hours:'))\n",
    "rate = float(input('Enter Rate:'))\n",
    "\n",
    "if hours <= 40:\n",
    "  pay = hours * rate\n",
    "else: \n",
    "  pay = ((hours - 40) * (1.5 * rate)) + (40 * rate)\n",
    "\n",
    "print ('Pay =', pay)"
   ]
  }
 ],
 "metadata": {
  "kernelspec": {
   "display_name": "Python 3 (ipykernel)",
   "language": "python",
   "name": "python3"
  },
  "language_info": {
   "codemirror_mode": {
    "name": "ipython",
    "version": 3
   },
   "file_extension": ".py",
   "mimetype": "text/x-python",
   "name": "python",
   "nbconvert_exporter": "python",
   "pygments_lexer": "ipython3",
   "version": "3.10.9"
  }
 },
 "nbformat": 4,
 "nbformat_minor": 5
}
